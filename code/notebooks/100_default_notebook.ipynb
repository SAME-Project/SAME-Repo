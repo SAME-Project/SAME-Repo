{
 "cells": [
  {
   "cell_type": "markdown",
   "metadata": {
    "id": "rwxGnsA92emp"
   },
   "source": [
    "# Copyright 2021 SAME Project"
   ]
  },
  {
   "cell_type": "code",
   "execution_count": null,
   "metadata": {
    "cellView": "form",
    "id": "CPII1rGR2rF9"
   },
   "outputs": [],
   "source": [
    "#@title Licensed under the Apache License, Version 2.0 (the \"License\");\n",
    "# you may not use this file except in compliance with the License.\n",
    "# You may obtain a copy of the License at\n",
    "#\n",
    "# https://www.apache.org/licenses/LICENSE-2.0\n",
    "#\n",
    "# Unless required by applicable law or agreed to in writing, software\n",
    "# distributed under the License is distributed on an \"AS IS\" BASIS,\n",
    "# WITHOUT WARRANTIES OR CONDITIONS OF ANY KIND, either express or implied.\n",
    "# See the License for the specific language governing permissions and\n",
    "# limitations under the License."
   ]
  },
  {
   "cell_type": "code",
   "execution_count": null,
   "metadata": {},
   "outputs": [],
   "source": [
    "#default_exp core\n",
    "\n",
    "# We need the above cell because of the way that nbdev_build_lib works."
   ]
  },
  {
   "cell_type": "markdown",
   "metadata": {
    "id": "yNr7H-AIoLOR"
   },
   "source": [
    "## Setup Program"
   ]
  },
  {
   "cell_type": "code",
   "execution_count": null,
   "metadata": {},
   "outputs": [],
   "source": [
    "!python3 -m pip install matplotlib pandas sklearn\n",
    "!python3 -m pip install githubactioncontexthelper\n",
    "!python3 -m pip install ipywidgets"
   ]
  },
  {
   "cell_type": "markdown",
   "metadata": {
    "id": "1J3AuPBT9gyR"
   },
   "source": [
    "### First Function\n",
    "\n",
    "The first_function script will execute first (because it is listed as the first cell with an export)"
   ]
  },
  {
   "cell_type": "code",
   "execution_count": null,
   "metadata": {
    "id": "jElLULrDhQZR"
   },
   "outputs": [],
   "source": [
    "# export first_function\n",
    "print(\"=\"*40)\n",
    "print(\"'first_function' python file\")\n",
    "print(\"=\"*40)\n",
    "\n",
    "import os\n",
    "import matplotlib.pyplot as plt\n",
    "import pandas as pd\n",
    "import sklearn\n",
    "import requests\n",
    "import githubactioncontexthelper\n",
    "from githubactioncontexthelper.githubactioncontext import Context\n",
    "\n",
    "cell_number = 1\n",
    "with Context() as c:\n",
    "    print(\"-\"*40)\n",
    "    print(f\"Cell #1\")\n",
    "    print(\"-\"*40)\n",
    "    cell_number += 1\n",
    "\n",
    "    print(\"Pandas version: {}\".format(pd.__version__))\n",
    "    print(\"SKLearn execution: {}\".format(sklearn.__version__))\n"
   ]
  },
  {
   "cell_type": "markdown",
   "metadata": {
    "id": "Zx7wc0LuuxaJ"
   },
   "source": [
    "# Download the Data"
   ]
  },
  {
   "cell_type": "code",
   "execution_count": null,
   "metadata": {},
   "outputs": [],
   "source": [
    "# export first_function\n",
    "\n",
    "with Context() as c:\n",
    "    print(\"-\"*40)\n",
    "    print(f\"Cell #2\")\n",
    "    print(\"-\"*40)\n",
    "    cell_number += 1\n",
    "\n",
    "    train_dataset_url = \"https://storage.googleapis.com/download.tensorflow.org/data/iris_training.csv\"\n",
    "    data = requests.get(train_dataset_url).content\n",
    "\n",
    "    with open('iris_training.csv', 'wb') as writer:\n",
    "        writer.write(data)\n",
    "\n",
    "    print(\"Downloaded iris_training.csv\")"
   ]
  },
  {
   "cell_type": "markdown",
   "metadata": {},
   "source": [
    "# Load the Data Into a Data Frame"
   ]
  },
  {
   "cell_type": "code",
   "execution_count": null,
   "metadata": {},
   "outputs": [],
   "source": [
    "# export first_function\n",
    "\n",
    "a = {}\n",
    "\n",
    "with Context() as c:\n",
    "    print(\"-\"*40)\n",
    "    print(f\"Cell #3\")\n",
    "    print(\"-\"*40)\n",
    "    cell_number += 1\n",
    "\n",
    "    df = pd.read_csv(\"iris_training.csv\", names=[ 'sepal_length', 'sepal_width', 'petal_length', 'petal_width', 'species'], skiprows=[0])\n",
    "\n",
    "    print(\"Loaded iris_training.csv into a dataframe.\")\n",
    "\n",
    "    # Save the data frame back to the context\n",
    "    c['df'] = df\n",
    "    \n",
    "    print(\"\\n\")\n",
    "    print(\"***\"*20)\n",
    "    print(\"Hi Azure Innovations!\")\n",
    "    print(\"***\"*20)\n",
    "    print(\"\\n\"*2)\n",
    "    \n",
    "#     a = df\n",
    "\n",
    "# a"
   ]
  },
  {
   "cell_type": "markdown",
   "metadata": {},
   "source": [
    "# Visualize the Data Frame (but Don't Export)"
   ]
  },
  {
   "cell_type": "code",
   "execution_count": null,
   "metadata": {},
   "outputs": [],
   "source": [
    "with Context() as c:\n",
    "    df = c['df']\n",
    "    df.plot()"
   ]
  },
  {
   "cell_type": "code",
   "execution_count": null,
   "metadata": {},
   "outputs": [],
   "source": [
    "# export second_function\n",
    "# Need to do imports at each stage (because the files are separate)\n",
    "\n",
    "import sys\n",
    "import pandas as pd\n",
    "from sklearn import preprocessing\n",
    "from githubactioncontexthelper.githubactioncontext import Context\n",
    "\n",
    "print(\"=\"*40)\n",
    "print(\"'second_function' python file\")\n",
    "print(\"=\"*40)\n",
    "\n",
    "\n",
    "with Context() as c:\n",
    "    print(\"-\"*40)\n",
    "    print(f\"Cell #1\")\n",
    "    print(\"-\"*40)\n",
    "\n",
    "    df = c['df']\n",
    "\n",
    "    # Example code in the next step - \n",
    "    # Normalize all the values in each column\n",
    "    x = df.values #returns a numpy array\n",
    "    min_max_scaler = preprocessing.MinMaxScaler()\n",
    "    x_scaled = min_max_scaler.fit_transform(x)\n",
    "    df = pd.DataFrame(x_scaled)\n",
    "\n",
    "    c['df'] = df\n",
    "    \n",
    "    print(\"\\n\")\n",
    "    print(\"***\"*20)\n",
    "    print(\"Hello again!\")\n",
    "    print(\"***\"*20)\n"
   ]
  },
  {
   "cell_type": "markdown",
   "metadata": {},
   "source": [
    "# Visualize Again After Normalization (but Don't Export)"
   ]
  },
  {
   "cell_type": "code",
   "execution_count": null,
   "metadata": {},
   "outputs": [],
   "source": [
    "with Context() as c:\n",
    "    df = c['df']\n",
    "    \n",
    "    df.plot()"
   ]
  },
  {
   "cell_type": "code",
   "execution_count": null,
   "metadata": {},
   "outputs": [],
   "source": []
  },
  {
   "cell_type": "code",
   "execution_count": null,
   "metadata": {},
   "outputs": [],
   "source": []
  }
 ],
 "metadata": {
  "colab": {
   "collapsed_sections": [],
   "name": "custom_training_walkthrough.ipynb",
   "toc_visible": true
  },
  "kernelspec": {
   "display_name": "Python 3",
   "language": "python",
   "name": "python3"
  },
  "language_info": {
   "codemirror_mode": {
    "name": "ipython",
    "version": 3
   },
   "file_extension": ".py",
   "mimetype": "text/x-python",
   "name": "python",
   "nbconvert_exporter": "python",
   "pygments_lexer": "ipython3",
   "version": "3.8.5"
  }
 },
 "nbformat": 4,
 "nbformat_minor": 1
}
